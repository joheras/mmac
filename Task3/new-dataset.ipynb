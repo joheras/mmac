{
 "cells": [
  {
   "cell_type": "code",
   "execution_count": 1,
   "id": "a7da3f3c-f63b-4b8d-8ef6-e99ba373a35a",
   "metadata": {},
   "outputs": [],
   "source": [
    "from fastai.vision.all import load_learner\n",
    "import pandas as pd"
   ]
  },
  {
   "cell_type": "code",
   "execution_count": 2,
   "id": "45379231-664b-4b9a-9177-71a881554ac7",
   "metadata": {},
   "outputs": [],
   "source": [
    "learn = load_learner('models/convnext_base.pkl')"
   ]
  },
  {
   "cell_type": "code",
   "execution_count": 3,
   "id": "ab7024de-1c6a-40a1-8341-971e9f95ae55",
   "metadata": {},
   "outputs": [],
   "source": [
    "df1 = pd.read_csv('Groundtruths/MMAC2023_Spherical_Equivalent_Prediction_Training_Labels.csv')"
   ]
  },
  {
   "cell_type": "code",
   "execution_count": 6,
   "id": "2313dc71-40be-484a-84d3-ee63bbcb6e9f",
   "metadata": {},
   "outputs": [],
   "source": [
    "df1.loc[:,'image'] = df1.image.apply(lambda x: 'Images/TrainingSet/'+x)"
   ]
  },
  {
   "cell_type": "code",
   "execution_count": 12,
   "id": "a742680f-c3b6-49eb-8bc5-28ffb81b9dcd",
   "metadata": {},
   "outputs": [],
   "source": [
    "df2 = pd.read_csv('../1. Classification of Myopic Maculopathy/Groundtruths/MMAC2023_Myopic_Maculopathy_Classification_Training_Labels.csv')"
   ]
  },
  {
   "cell_type": "code",
   "execution_count": 13,
   "id": "c02c1a9b-dc03-4098-b006-d63bd7e02483",
   "metadata": {},
   "outputs": [],
   "source": [
    "df2.loc[:,'image'] = df2.image.apply(lambda x: '../1. Classification of Myopic Maculopathy/Images/TrainingSet/'+x)"
   ]
  },
  {
   "cell_type": "code",
   "execution_count": 21,
   "id": "5d78e79f-b7ff-4ffb-b33b-298c45aabf00",
   "metadata": {},
   "outputs": [],
   "source": [
    "df1['Split']=False"
   ]
  },
  {
   "cell_type": "code",
   "execution_count": 22,
   "id": "e6ea7ef5-499d-4809-a108-2bc765ef14c9",
   "metadata": {},
   "outputs": [],
   "source": [
    "df2['Split']=True"
   ]
  },
  {
   "cell_type": "code",
   "execution_count": 16,
   "id": "174b7142-19e1-4455-b976-649645a6beea",
   "metadata": {},
   "outputs": [],
   "source": [
    "df2['spherical_equivalent']=None"
   ]
  },
  {
   "cell_type": "code",
   "execution_count": 23,
   "id": "7620bcde-71e9-4817-beb6-53038e61bd44",
   "metadata": {},
   "outputs": [
    {
     "data": {
      "text/html": [
       "<div>\n",
       "<style scoped>\n",
       "    .dataframe tbody tr th:only-of-type {\n",
       "        vertical-align: middle;\n",
       "    }\n",
       "\n",
       "    .dataframe tbody tr th {\n",
       "        vertical-align: top;\n",
       "    }\n",
       "\n",
       "    .dataframe thead th {\n",
       "        text-align: right;\n",
       "    }\n",
       "</style>\n",
       "<table border=\"1\" class=\"dataframe\">\n",
       "  <thead>\n",
       "    <tr style=\"text-align: right;\">\n",
       "      <th></th>\n",
       "      <th>image</th>\n",
       "      <th>spherical_equivalent</th>\n",
       "      <th>Split</th>\n",
       "    </tr>\n",
       "  </thead>\n",
       "  <tbody>\n",
       "    <tr>\n",
       "      <th>0</th>\n",
       "      <td>Images/TrainingSet/mmac_task_3_train_0001.png</td>\n",
       "      <td>0.125</td>\n",
       "      <td>False</td>\n",
       "    </tr>\n",
       "    <tr>\n",
       "      <th>1</th>\n",
       "      <td>Images/TrainingSet/mmac_task_3_train_0002.png</td>\n",
       "      <td>0.000</td>\n",
       "      <td>False</td>\n",
       "    </tr>\n",
       "    <tr>\n",
       "      <th>2</th>\n",
       "      <td>Images/TrainingSet/mmac_task_3_train_0003.png</td>\n",
       "      <td>-0.125</td>\n",
       "      <td>False</td>\n",
       "    </tr>\n",
       "    <tr>\n",
       "      <th>3</th>\n",
       "      <td>Images/TrainingSet/mmac_task_3_train_0004.png</td>\n",
       "      <td>-0.750</td>\n",
       "      <td>False</td>\n",
       "    </tr>\n",
       "    <tr>\n",
       "      <th>4</th>\n",
       "      <td>Images/TrainingSet/mmac_task_3_train_0005.png</td>\n",
       "      <td>-0.125</td>\n",
       "      <td>False</td>\n",
       "    </tr>\n",
       "    <tr>\n",
       "      <th>...</th>\n",
       "      <td>...</td>\n",
       "      <td>...</td>\n",
       "      <td>...</td>\n",
       "    </tr>\n",
       "    <tr>\n",
       "      <th>1138</th>\n",
       "      <td>../1. Classification of Myopic Maculopathy/Images/TrainingSet/mmac_task_1_train_1139.png</td>\n",
       "      <td>NaN</td>\n",
       "      <td>True</td>\n",
       "    </tr>\n",
       "    <tr>\n",
       "      <th>1139</th>\n",
       "      <td>../1. Classification of Myopic Maculopathy/Images/TrainingSet/mmac_task_1_train_1140.png</td>\n",
       "      <td>NaN</td>\n",
       "      <td>True</td>\n",
       "    </tr>\n",
       "    <tr>\n",
       "      <th>1140</th>\n",
       "      <td>../1. Classification of Myopic Maculopathy/Images/TrainingSet/mmac_task_1_train_1141.png</td>\n",
       "      <td>NaN</td>\n",
       "      <td>True</td>\n",
       "    </tr>\n",
       "    <tr>\n",
       "      <th>1141</th>\n",
       "      <td>../1. Classification of Myopic Maculopathy/Images/TrainingSet/mmac_task_1_train_1142.png</td>\n",
       "      <td>NaN</td>\n",
       "      <td>True</td>\n",
       "    </tr>\n",
       "    <tr>\n",
       "      <th>1142</th>\n",
       "      <td>../1. Classification of Myopic Maculopathy/Images/TrainingSet/mmac_task_1_train_1143.png</td>\n",
       "      <td>NaN</td>\n",
       "      <td>True</td>\n",
       "    </tr>\n",
       "  </tbody>\n",
       "</table>\n",
       "<p>2135 rows × 3 columns</p>\n",
       "</div>"
      ],
      "text/plain": [
       "                                                                                         image  \\\n",
       "0                                                Images/TrainingSet/mmac_task_3_train_0001.png   \n",
       "1                                                Images/TrainingSet/mmac_task_3_train_0002.png   \n",
       "2                                                Images/TrainingSet/mmac_task_3_train_0003.png   \n",
       "3                                                Images/TrainingSet/mmac_task_3_train_0004.png   \n",
       "4                                                Images/TrainingSet/mmac_task_3_train_0005.png   \n",
       "...                                                                                        ...   \n",
       "1138  ../1. Classification of Myopic Maculopathy/Images/TrainingSet/mmac_task_1_train_1139.png   \n",
       "1139  ../1. Classification of Myopic Maculopathy/Images/TrainingSet/mmac_task_1_train_1140.png   \n",
       "1140  ../1. Classification of Myopic Maculopathy/Images/TrainingSet/mmac_task_1_train_1141.png   \n",
       "1141  ../1. Classification of Myopic Maculopathy/Images/TrainingSet/mmac_task_1_train_1142.png   \n",
       "1142  ../1. Classification of Myopic Maculopathy/Images/TrainingSet/mmac_task_1_train_1143.png   \n",
       "\n",
       "      spherical_equivalent  Split  \n",
       "0                    0.125  False  \n",
       "1                    0.000  False  \n",
       "2                   -0.125  False  \n",
       "3                   -0.750  False  \n",
       "4                   -0.125  False  \n",
       "...                    ...    ...  \n",
       "1138                   NaN   True  \n",
       "1139                   NaN   True  \n",
       "1140                   NaN   True  \n",
       "1141                   NaN   True  \n",
       "1142                   NaN   True  \n",
       "\n",
       "[2135 rows x 3 columns]"
      ]
     },
     "execution_count": 23,
     "metadata": {},
     "output_type": "execute_result"
    }
   ],
   "source": [
    "pd.concat([df1[['image','spherical_equivalent','Split']],df2[['image','spherical_equivalent','Split']]])"
   ]
  },
  {
   "cell_type": "code",
   "execution_count": 24,
   "id": "d75d53c8-0c7b-4528-8e40-0b59d6dc4549",
   "metadata": {},
   "outputs": [],
   "source": [
    "from imutils import paths"
   ]
  },
  {
   "cell_type": "code",
   "execution_count": 30,
   "id": "ff9ee07b-d790-42bb-b3bf-3da0e3d96c27",
   "metadata": {},
   "outputs": [],
   "source": [
    "res = []\n",
    "for x in paths.list_images('../2. Segmentation of Myopic Maculopathy Plus Lesions/1. Lacquer Cracks/1. Images/1. Training Set/'):\n",
    "    res.append([x,None,True])\n",
    "for x in paths.list_images('../2. Segmentation of Myopic Maculopathy Plus Lesions/2. Choroidal Neovascularization/1. Images/1. Training Set/'):\n",
    "    res.append([x,None,True])\n",
    "for x in paths.list_images('../2. Segmentation of Myopic Maculopathy Plus Lesions/3. Fuchs Spot/1. Images/1. Training Set/'):\n",
    "    res.append([x,None,True])"
   ]
  },
  {
   "cell_type": "code",
   "execution_count": 34,
   "id": "591fcb6b-e12e-4f2b-b12e-3106068833a6",
   "metadata": {},
   "outputs": [],
   "source": [
    "df3 = pd.DataFrame(res,columns=['image','spherical_equivalent','Split'])"
   ]
  },
  {
   "cell_type": "code",
   "execution_count": 36,
   "id": "5de34cc2-55a9-441d-a89a-31ffd01ebbf5",
   "metadata": {},
   "outputs": [],
   "source": [
    "dfNew = pd.concat([df1[['image','spherical_equivalent','Split']],df2[['image','spherical_equivalent','Split']],df3])"
   ]
  },
  {
   "cell_type": "code",
   "execution_count": 37,
   "id": "5ba45172-0139-43da-8fe4-0fe61ef891f5",
   "metadata": {},
   "outputs": [],
   "source": [
    "from fastai.vision.all import *\n"
   ]
  },
  {
   "cell_type": "code",
   "execution_count": 38,
   "id": "c6ee4471-2eee-4973-b8dc-1e059ed44d9c",
   "metadata": {},
   "outputs": [],
   "source": [
    "db = DataBlock(blocks = (ImageBlock, RegressionBlock),\n",
    "             splitter=ColSplitter('Split'),\n",
    "             get_x = ColReader(0),\n",
    "             get_y=ColReader(1),\n",
    "             item_tfms = [Resize(640)], # CropPad(200,200)\n",
    "             batch_tfms=[*aug_transforms(size=512, min_scale=0.75,do_flip=True,flip_vert=True,\n",
    "                  max_rotate=2.,max_zoom=1.1, max_warp=0.05,p_affine=0.9, p_lighting=0.8), \n",
    "                         Normalize.from_stats(*imagenet_stats)])"
   ]
  },
  {
   "cell_type": "code",
   "execution_count": 39,
   "id": "b6d4e8e1-1a07-4665-9bb9-d4debddcc0a0",
   "metadata": {},
   "outputs": [],
   "source": [
    "dls = db.dataloaders(dfNew,bs=32)"
   ]
  },
  {
   "cell_type": "code",
   "execution_count": 40,
   "id": "5b3582df-4fc8-4529-a89c-7df489a07827",
   "metadata": {},
   "outputs": [],
   "source": [
    "learn.dls = dls"
   ]
  },
  {
   "cell_type": "code",
   "execution_count": 42,
   "id": "ddcafeca-4627-4563-a65f-774860cc81a2",
   "metadata": {},
   "outputs": [
    {
     "data": {
      "text/html": [
       "\n",
       "<style>\n",
       "    /* Turns off some styling */\n",
       "    progress {\n",
       "        /* gets rid of default border in Firefox and Opera. */\n",
       "        border: none;\n",
       "        /* Needs to be in here for Safari polyfill so background images work as expected. */\n",
       "        background-size: auto;\n",
       "    }\n",
       "    progress:not([value]), progress:not([value])::-webkit-progress-bar {\n",
       "        background: repeating-linear-gradient(45deg, #7e7e7e, #7e7e7e 10px, #5c5c5c 10px, #5c5c5c 20px);\n",
       "    }\n",
       "    .progress-bar-interrupted, .progress-bar-interrupted::-webkit-progress-bar {\n",
       "        background: #F44336;\n",
       "    }\n",
       "</style>\n"
      ],
      "text/plain": [
       "<IPython.core.display.HTML object>"
      ]
     },
     "metadata": {},
     "output_type": "display_data"
    },
    {
     "data": {
      "text/html": [
       "\n",
       "    <div>\n",
       "      <progress value='0' class='' max='1' style='width:300px; height:20px; vertical-align: middle;'></progress>\n",
       "      \n",
       "    </div>\n",
       "    \n"
      ],
      "text/plain": [
       "<IPython.core.display.HTML object>"
      ]
     },
     "metadata": {},
     "output_type": "display_data"
    },
    {
     "data": {
      "text/html": [
       "\n",
       "<style>\n",
       "    /* Turns off some styling */\n",
       "    progress {\n",
       "        /* gets rid of default border in Firefox and Opera. */\n",
       "        border: none;\n",
       "        /* Needs to be in here for Safari polyfill so background images work as expected. */\n",
       "        background-size: auto;\n",
       "    }\n",
       "    progress:not([value]), progress:not([value])::-webkit-progress-bar {\n",
       "        background: repeating-linear-gradient(45deg, #7e7e7e, #7e7e7e 10px, #5c5c5c 10px, #5c5c5c 20px);\n",
       "    }\n",
       "    .progress-bar-interrupted, .progress-bar-interrupted::-webkit-progress-bar {\n",
       "        background: #F44336;\n",
       "    }\n",
       "</style>\n"
      ],
      "text/plain": [
       "<IPython.core.display.HTML object>"
      ]
     },
     "metadata": {},
     "output_type": "display_data"
    },
    {
     "data": {
      "text/html": [],
      "text/plain": [
       "<IPython.core.display.HTML object>"
      ]
     },
     "metadata": {},
     "output_type": "display_data"
    }
   ],
   "source": [
    "preds,y = learn.tta()"
   ]
  },
  {
   "cell_type": "code",
   "execution_count": 49,
   "id": "f552b324-aad6-437b-bb33-44e4d75ba1bf",
   "metadata": {},
   "outputs": [
    {
     "data": {
      "text/plain": [
       "array(['../1. Classification of Myopic Maculopathy/Images/TrainingSet/mmac_task_1_train_0001.png',\n",
       "       '../1. Classification of Myopic Maculopathy/Images/TrainingSet/mmac_task_1_train_0002.png',\n",
       "       '../1. Classification of Myopic Maculopathy/Images/TrainingSet/mmac_task_1_train_0003.png',\n",
       "       ...,\n",
       "       '../2. Segmentation of Myopic Maculopathy Plus Lesions/3. Fuchs Spot/1. Images/1. Training Set/mmac_task_2_train_FS_0016.png',\n",
       "       '../2. Segmentation of Myopic Maculopathy Plus Lesions/3. Fuchs Spot/1. Images/1. Training Set/mmac_task_2_train_FS_0012.png',\n",
       "       '../2. Segmentation of Myopic Maculopathy Plus Lesions/3. Fuchs Spot/1. Images/1. Training Set/mmac_task_2_train_FS_0036.png'],\n",
       "      dtype=object)"
      ]
     },
     "execution_count": 49,
     "metadata": {},
     "output_type": "execute_result"
    }
   ],
   "source": []
  },
  {
   "cell_type": "code",
   "execution_count": 50,
   "id": "1422efc8-1bdf-4f14-baff-955b6fce60cd",
   "metadata": {},
   "outputs": [],
   "source": [
    "res = []\n",
    "for x,y in zip(dfNew[dfNew.Split==True]['image'],[x[0] for x in np.array(preds)]):\n",
    "    res.append([x,y,False])"
   ]
  },
  {
   "cell_type": "code",
   "execution_count": 52,
   "id": "14733986-95a9-4a03-afe1-d7efcc40e46c",
   "metadata": {},
   "outputs": [
    {
     "data": {
      "text/html": [
       "<div>\n",
       "<style scoped>\n",
       "    .dataframe tbody tr th:only-of-type {\n",
       "        vertical-align: middle;\n",
       "    }\n",
       "\n",
       "    .dataframe tbody tr th {\n",
       "        vertical-align: top;\n",
       "    }\n",
       "\n",
       "    .dataframe thead th {\n",
       "        text-align: right;\n",
       "    }\n",
       "</style>\n",
       "<table border=\"1\" class=\"dataframe\">\n",
       "  <thead>\n",
       "    <tr style=\"text-align: right;\">\n",
       "      <th></th>\n",
       "      <th>image</th>\n",
       "      <th>spherical_equivalent</th>\n",
       "      <th>Split</th>\n",
       "    </tr>\n",
       "  </thead>\n",
       "  <tbody>\n",
       "    <tr>\n",
       "      <th>0</th>\n",
       "      <td>../1. Classification of Myopic Maculopathy/Images/TrainingSet/mmac_task_1_train_0001.png</td>\n",
       "      <td>-3.241192</td>\n",
       "      <td>False</td>\n",
       "    </tr>\n",
       "    <tr>\n",
       "      <th>1</th>\n",
       "      <td>../1. Classification of Myopic Maculopathy/Images/TrainingSet/mmac_task_1_train_0002.png</td>\n",
       "      <td>-2.747184</td>\n",
       "      <td>False</td>\n",
       "    </tr>\n",
       "    <tr>\n",
       "      <th>2</th>\n",
       "      <td>../1. Classification of Myopic Maculopathy/Images/TrainingSet/mmac_task_1_train_0003.png</td>\n",
       "      <td>-2.974533</td>\n",
       "      <td>False</td>\n",
       "    </tr>\n",
       "    <tr>\n",
       "      <th>3</th>\n",
       "      <td>../1. Classification of Myopic Maculopathy/Images/TrainingSet/mmac_task_1_train_0004.png</td>\n",
       "      <td>-2.141968</td>\n",
       "      <td>False</td>\n",
       "    </tr>\n",
       "    <tr>\n",
       "      <th>4</th>\n",
       "      <td>../1. Classification of Myopic Maculopathy/Images/TrainingSet/mmac_task_1_train_0005.png</td>\n",
       "      <td>-6.224926</td>\n",
       "      <td>False</td>\n",
       "    </tr>\n",
       "    <tr>\n",
       "      <th>...</th>\n",
       "      <td>...</td>\n",
       "      <td>...</td>\n",
       "      <td>...</td>\n",
       "    </tr>\n",
       "    <tr>\n",
       "      <th>1289</th>\n",
       "      <td>../2. Segmentation of Myopic Maculopathy Plus Lesions/3. Fuchs Spot/1. Images/1. Training Set/mmac_task_2_train_FS_0009.png</td>\n",
       "      <td>-2.193742</td>\n",
       "      <td>False</td>\n",
       "    </tr>\n",
       "    <tr>\n",
       "      <th>1290</th>\n",
       "      <td>../2. Segmentation of Myopic Maculopathy Plus Lesions/3. Fuchs Spot/1. Images/1. Training Set/mmac_task_2_train_FS_0019.png</td>\n",
       "      <td>-11.204075</td>\n",
       "      <td>False</td>\n",
       "    </tr>\n",
       "    <tr>\n",
       "      <th>1291</th>\n",
       "      <td>../2. Segmentation of Myopic Maculopathy Plus Lesions/3. Fuchs Spot/1. Images/1. Training Set/mmac_task_2_train_FS_0016.png</td>\n",
       "      <td>-10.237436</td>\n",
       "      <td>False</td>\n",
       "    </tr>\n",
       "    <tr>\n",
       "      <th>1292</th>\n",
       "      <td>../2. Segmentation of Myopic Maculopathy Plus Lesions/3. Fuchs Spot/1. Images/1. Training Set/mmac_task_2_train_FS_0012.png</td>\n",
       "      <td>-2.716155</td>\n",
       "      <td>False</td>\n",
       "    </tr>\n",
       "    <tr>\n",
       "      <th>1293</th>\n",
       "      <td>../2. Segmentation of Myopic Maculopathy Plus Lesions/3. Fuchs Spot/1. Images/1. Training Set/mmac_task_2_train_FS_0036.png</td>\n",
       "      <td>-5.463167</td>\n",
       "      <td>False</td>\n",
       "    </tr>\n",
       "  </tbody>\n",
       "</table>\n",
       "<p>1294 rows × 3 columns</p>\n",
       "</div>"
      ],
      "text/plain": [
       "                                                                                                                            image  \\\n",
       "0                                        ../1. Classification of Myopic Maculopathy/Images/TrainingSet/mmac_task_1_train_0001.png   \n",
       "1                                        ../1. Classification of Myopic Maculopathy/Images/TrainingSet/mmac_task_1_train_0002.png   \n",
       "2                                        ../1. Classification of Myopic Maculopathy/Images/TrainingSet/mmac_task_1_train_0003.png   \n",
       "3                                        ../1. Classification of Myopic Maculopathy/Images/TrainingSet/mmac_task_1_train_0004.png   \n",
       "4                                        ../1. Classification of Myopic Maculopathy/Images/TrainingSet/mmac_task_1_train_0005.png   \n",
       "...                                                                                                                           ...   \n",
       "1289  ../2. Segmentation of Myopic Maculopathy Plus Lesions/3. Fuchs Spot/1. Images/1. Training Set/mmac_task_2_train_FS_0009.png   \n",
       "1290  ../2. Segmentation of Myopic Maculopathy Plus Lesions/3. Fuchs Spot/1. Images/1. Training Set/mmac_task_2_train_FS_0019.png   \n",
       "1291  ../2. Segmentation of Myopic Maculopathy Plus Lesions/3. Fuchs Spot/1. Images/1. Training Set/mmac_task_2_train_FS_0016.png   \n",
       "1292  ../2. Segmentation of Myopic Maculopathy Plus Lesions/3. Fuchs Spot/1. Images/1. Training Set/mmac_task_2_train_FS_0012.png   \n",
       "1293  ../2. Segmentation of Myopic Maculopathy Plus Lesions/3. Fuchs Spot/1. Images/1. Training Set/mmac_task_2_train_FS_0036.png   \n",
       "\n",
       "      spherical_equivalent  Split  \n",
       "0                -3.241192  False  \n",
       "1                -2.747184  False  \n",
       "2                -2.974533  False  \n",
       "3                -2.141968  False  \n",
       "4                -6.224926  False  \n",
       "...                    ...    ...  \n",
       "1289             -2.193742  False  \n",
       "1290            -11.204075  False  \n",
       "1291            -10.237436  False  \n",
       "1292             -2.716155  False  \n",
       "1293             -5.463167  False  \n",
       "\n",
       "[1294 rows x 3 columns]"
      ]
     },
     "execution_count": 52,
     "metadata": {},
     "output_type": "execute_result"
    }
   ],
   "source": [
    "df4 = pd.DataFrame(res,columns=['image','spherical_equivalent','Split'])\n",
    "df4"
   ]
  },
  {
   "cell_type": "code",
   "execution_count": 53,
   "id": "41b9c8ad-3f8b-470d-8812-5d696ac42485",
   "metadata": {},
   "outputs": [
    {
     "data": {
      "text/html": [
       "<div>\n",
       "<style scoped>\n",
       "    .dataframe tbody tr th:only-of-type {\n",
       "        vertical-align: middle;\n",
       "    }\n",
       "\n",
       "    .dataframe tbody tr th {\n",
       "        vertical-align: top;\n",
       "    }\n",
       "\n",
       "    .dataframe thead th {\n",
       "        text-align: right;\n",
       "    }\n",
       "</style>\n",
       "<table border=\"1\" class=\"dataframe\">\n",
       "  <thead>\n",
       "    <tr style=\"text-align: right;\">\n",
       "      <th></th>\n",
       "      <th>image</th>\n",
       "      <th>spherical_equivalent</th>\n",
       "    </tr>\n",
       "  </thead>\n",
       "  <tbody>\n",
       "    <tr>\n",
       "      <th>0</th>\n",
       "      <td>Images/TrainingSet/mmac_task_3_train_0001.png</td>\n",
       "      <td>0.125</td>\n",
       "    </tr>\n",
       "    <tr>\n",
       "      <th>1</th>\n",
       "      <td>Images/TrainingSet/mmac_task_3_train_0002.png</td>\n",
       "      <td>0.000</td>\n",
       "    </tr>\n",
       "    <tr>\n",
       "      <th>2</th>\n",
       "      <td>Images/TrainingSet/mmac_task_3_train_0003.png</td>\n",
       "      <td>-0.125</td>\n",
       "    </tr>\n",
       "    <tr>\n",
       "      <th>3</th>\n",
       "      <td>Images/TrainingSet/mmac_task_3_train_0004.png</td>\n",
       "      <td>-0.750</td>\n",
       "    </tr>\n",
       "    <tr>\n",
       "      <th>4</th>\n",
       "      <td>Images/TrainingSet/mmac_task_3_train_0005.png</td>\n",
       "      <td>-0.125</td>\n",
       "    </tr>\n",
       "    <tr>\n",
       "      <th>...</th>\n",
       "      <td>...</td>\n",
       "      <td>...</td>\n",
       "    </tr>\n",
       "    <tr>\n",
       "      <th>987</th>\n",
       "      <td>Images/TrainingSet/mmac_task_3_train_0988.png</td>\n",
       "      <td>1.000</td>\n",
       "    </tr>\n",
       "    <tr>\n",
       "      <th>988</th>\n",
       "      <td>Images/TrainingSet/mmac_task_3_train_0989.png</td>\n",
       "      <td>-0.125</td>\n",
       "    </tr>\n",
       "    <tr>\n",
       "      <th>989</th>\n",
       "      <td>Images/TrainingSet/mmac_task_3_train_0990.png</td>\n",
       "      <td>-0.625</td>\n",
       "    </tr>\n",
       "    <tr>\n",
       "      <th>990</th>\n",
       "      <td>Images/TrainingSet/mmac_task_3_train_0991.png</td>\n",
       "      <td>-0.250</td>\n",
       "    </tr>\n",
       "    <tr>\n",
       "      <th>991</th>\n",
       "      <td>Images/TrainingSet/mmac_task_3_train_0992.png</td>\n",
       "      <td>0.000</td>\n",
       "    </tr>\n",
       "  </tbody>\n",
       "</table>\n",
       "<p>992 rows × 2 columns</p>\n",
       "</div>"
      ],
      "text/plain": [
       "                                             image  spherical_equivalent\n",
       "0    Images/TrainingSet/mmac_task_3_train_0001.png                 0.125\n",
       "1    Images/TrainingSet/mmac_task_3_train_0002.png                 0.000\n",
       "2    Images/TrainingSet/mmac_task_3_train_0003.png                -0.125\n",
       "3    Images/TrainingSet/mmac_task_3_train_0004.png                -0.750\n",
       "4    Images/TrainingSet/mmac_task_3_train_0005.png                -0.125\n",
       "..                                             ...                   ...\n",
       "987  Images/TrainingSet/mmac_task_3_train_0988.png                 1.000\n",
       "988  Images/TrainingSet/mmac_task_3_train_0989.png                -0.125\n",
       "989  Images/TrainingSet/mmac_task_3_train_0990.png                -0.625\n",
       "990  Images/TrainingSet/mmac_task_3_train_0991.png                -0.250\n",
       "991  Images/TrainingSet/mmac_task_3_train_0992.png                 0.000\n",
       "\n",
       "[992 rows x 2 columns]"
      ]
     },
     "execution_count": 53,
     "metadata": {},
     "output_type": "execute_result"
    }
   ],
   "source": [
    "df1[['image','spherical_equivalent']]"
   ]
  },
  {
   "cell_type": "code",
   "execution_count": 54,
   "id": "f0eb095b-74a5-4a64-8f61-a6bdc86f5b93",
   "metadata": {},
   "outputs": [],
   "source": [
    "from sklearn.model_selection import train_test_split\n"
   ]
  },
  {
   "cell_type": "code",
   "execution_count": 58,
   "id": "82e8d499-ccd2-4188-bc8c-faf8f7a89ebf",
   "metadata": {},
   "outputs": [],
   "source": [
    "train, test = train_test_split(df1[['image','spherical_equivalent']], test_size=0.2,random_state=5)"
   ]
  },
  {
   "cell_type": "code",
   "execution_count": 59,
   "id": "1440bccc-3c6a-46c9-a905-30bb6a870748",
   "metadata": {},
   "outputs": [],
   "source": [
    "train['Split']=False\n",
    "test['Split']=True"
   ]
  },
  {
   "cell_type": "code",
   "execution_count": 60,
   "id": "428e35b3-b851-4509-ba87-8f813247adb8",
   "metadata": {},
   "outputs": [],
   "source": [
    "dfNew = pd.concat([df4,train,test])"
   ]
  },
  {
   "cell_type": "code",
   "execution_count": 63,
   "id": "26676fbc-ca3c-44c7-bfea-5970a0aa3d46",
   "metadata": {},
   "outputs": [],
   "source": [
    "dfNew.to_csv('dfNew.csv',index=None)"
   ]
  },
  {
   "cell_type": "code",
   "execution_count": null,
   "id": "144f0b1f-9f53-4628-93cd-ec3015e4ed72",
   "metadata": {},
   "outputs": [],
   "source": []
  }
 ],
 "metadata": {
  "kernelspec": {
   "display_name": "Python [conda env:.conda-python38]",
   "language": "python",
   "name": "conda-env-.conda-python38-py"
  },
  "language_info": {
   "codemirror_mode": {
    "name": "ipython",
    "version": 3
   },
   "file_extension": ".py",
   "mimetype": "text/x-python",
   "name": "python",
   "nbconvert_exporter": "python",
   "pygments_lexer": "ipython3",
   "version": "3.8.16"
  }
 },
 "nbformat": 4,
 "nbformat_minor": 5
}
